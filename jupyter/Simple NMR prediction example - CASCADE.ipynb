{
 "cells": [
  {
   "cell_type": "code",
   "execution_count": 7,
   "id": "687c0853",
   "metadata": {},
   "outputs": [],
   "source": [
    "import nfp\n",
    "from cascade.apply import predict_NMR_C,predict_NMR_H\n",
    "from cascade.tfmodel import NMR_model_C, NMR_model_H"
   ]
  },
  {
   "cell_type": "code",
   "execution_count": 8,
   "id": "5e2e6fc7",
   "metadata": {},
   "outputs": [
    {
     "name": "stdout",
     "output_type": "stream",
     "text": [
      "   ------------------------------------------------------------------------------------------------------------------\n",
      "   |    FULL_MONTE search                                                                                           |\n",
      "   | o  EWIN: 10.0 kcal/mol                                                                                         |\n",
      "   | o  MCNV: 2 ROTATABLE BONDS                                                                                     |\n",
      "   | o  STEP: 200 (ESTIMATED CONFORMER SPACE: 8)                                                                    |\n",
      "   ------------------------------------------------------------------------------------------------------------------\n",
      "\n"
     ]
    },
    {
     "name": "stderr",
     "output_type": "stream",
     "text": [
      "3it [00:00, 176.21it/s]"
     ]
    },
    {
     "name": "stdout",
     "output_type": "stream",
     "text": [
      "o  FILTERING CONFORMERS BY ENERGY CUTOFF: 10.0 kcal/mol\n",
      "   KEEPING 200 CONFORMERS\n",
      "o  FILTERING CONFORMERS BY RMS: 0.5\n",
      "   KEEPING 3 CONFORMERS\n"
     ]
    },
    {
     "name": "stderr",
     "output_type": "stream",
     "text": [
      "\n"
     ]
    }
   ],
   "source": [
    "outC = predict_NMR_C(\"CCN=[N+]=[N-]\", NMR_model_C)"
   ]
  },
  {
   "cell_type": "code",
   "execution_count": 9,
   "id": "a0534bba",
   "metadata": {},
   "outputs": [
    {
     "data": {
      "text/plain": [
       "([<rdkit.Chem.rdchem.RWMol at 0x7fa44bcbcce0>,\n",
       "  <rdkit.Chem.rdchem.RWMol at 0x7fa44bcbcd50>,\n",
       "  <rdkit.Chem.rdchem.RWMol at 0x7fa44bcbc768>],\n",
       "    mol_id  atom_index  Shift\n",
       " 0       0           1  14.37\n",
       " 1       0           2  46.64,\n",
       "    atom_index cf_id mol_id  relative_E  predicted  b_weight\n",
       " 0           1   195      0        0.00      14.18      1.00\n",
       " 1           2   195      0        0.00      47.06      1.00\n",
       " 0           1   129      0        0.64      14.64      0.34\n",
       " 1           2   129      0        0.64      46.02      0.34\n",
       " 0           1     5      0        0.64      14.64      0.34\n",
       " 1           2     5      0        0.64      46.02      0.34)"
      ]
     },
     "execution_count": 9,
     "metadata": {},
     "output_type": "execute_result"
    }
   ],
   "source": [
    "outC"
   ]
  },
  {
   "cell_type": "code",
   "execution_count": 10,
   "id": "fc1dd4a2",
   "metadata": {},
   "outputs": [],
   "source": [
    "mol0 = outC[0][0]"
   ]
  },
  {
   "cell_type": "code",
   "execution_count": null,
   "id": "65f5e719",
   "metadata": {},
   "outputs": [],
   "source": []
  },
  {
   "cell_type": "code",
   "execution_count": 11,
   "id": "34c00757",
   "metadata": {},
   "outputs": [],
   "source": [
    "# Source: https://www.herongyang.com/Cheminformatics/RDKit-rdkit-Chem-Draw-rdMolDraw2D-MolDraw2DSVG-SVG.html\n",
    "\n",
    "from rdkit.Chem.Draw import rdMolDraw2D\n",
    "import IPython.display\n",
    "\n",
    "def display_molecule(mol):\n",
    "    d = rdMolDraw2D.MolDraw2DSVG(300, 300)\n",
    "    # Iterate over the atoms\n",
    "    for atom in mol.GetAtoms():\n",
    "        # For each atom, set the property \"atomNote\" to a index+1 of the atom\n",
    "        atom.SetProp(\"atomNote\", str(atom.GetIdx()+1))\n",
    "    d.DrawMolecule(mol, )\n",
    "    d.FinishDrawing()\n",
    "    p = d.GetDrawingText()\n",
    "\n",
    "\n",
    "    i = IPython.display.SVG(p)\n",
    "    display(i)"
   ]
  },
  {
   "cell_type": "code",
   "execution_count": 12,
   "id": "cb59771b",
   "metadata": {},
   "outputs": [
    {
     "data": {
      "image/svg+xml": [
       "<svg baseProfile=\"full\" height=\"300px\" version=\"1.1\" width=\"300px\" xml:space=\"preserve\" xmlns=\"http://www.w3.org/2000/svg\" xmlns:rdkit=\"http://www.rdkit.org/xml\" xmlns:xlink=\"http://www.w3.org/1999/xlink\">\n",
       "<!-- END OF HEADER -->\n",
       "<rect height=\"300\" style=\"opacity:1.0;fill:#FFFFFF;stroke:none\" width=\"300\" x=\"0\" y=\"0\"> </rect>\n",
       "<path class=\"bond-0\" d=\"M 55.0959,138.744 118.471,161.087\" style=\"fill:none;fill-rule:evenodd;stroke:#000000;stroke-width:2px;stroke-linecap:butt;stroke-linejoin:miter;stroke-opacity:1\"/>\n",
       "<path class=\"bond-4\" d=\"M 55.0959,138.744 29.8221,161.257\" style=\"fill:none;fill-rule:evenodd;stroke:#000000;stroke-width:2px;stroke-linecap:butt;stroke-linejoin:miter;stroke-opacity:1\"/>\n",
       "<path class=\"bond-5\" d=\"M 55.0959,138.744 51.0332,100.337\" style=\"fill:none;fill-rule:evenodd;stroke:#000000;stroke-width:2px;stroke-linecap:butt;stroke-linejoin:miter;stroke-opacity:1\"/>\n",
       "<path class=\"bond-6\" d=\"M 55.0959,138.744 49.6044,138.906\" style=\"fill:none;fill-rule:evenodd;stroke:#000000;stroke-width:2px;stroke-linecap:butt;stroke-linejoin:miter;stroke-opacity:1\"/>\n",
       "<path class=\"bond-1\" d=\"M 118.471,161.087 135.688,144.653\" style=\"fill:none;fill-rule:evenodd;stroke:#000000;stroke-width:2px;stroke-linecap:butt;stroke-linejoin:miter;stroke-opacity:1\"/>\n",
       "<path class=\"bond-1\" d=\"M 135.688,144.653 152.906,128.219\" style=\"fill:none;fill-rule:evenodd;stroke:#0000FF;stroke-width:2px;stroke-linecap:butt;stroke-linejoin:miter;stroke-opacity:1\"/>\n",
       "<path class=\"bond-7\" d=\"M 118.471,161.087 122.835,160.925\" style=\"fill:none;fill-rule:evenodd;stroke:#000000;stroke-width:2px;stroke-linecap:butt;stroke-linejoin:miter;stroke-opacity:1\"/>\n",
       "<path class=\"bond-8\" d=\"M 118.471,161.087 121.564,199.663\" style=\"fill:none;fill-rule:evenodd;stroke:#000000;stroke-width:2px;stroke-linecap:butt;stroke-linejoin:miter;stroke-opacity:1\"/>\n",
       "<path class=\"bond-2\" d=\"M 165.907,123.627 204.116,133.109\" style=\"fill:none;fill-rule:evenodd;stroke:#0000FF;stroke-width:2px;stroke-linecap:butt;stroke-linejoin:miter;stroke-opacity:1\"/>\n",
       "<path class=\"bond-2\" d=\"M 168.409,138.064 195.155,144.701\" style=\"fill:none;fill-rule:evenodd;stroke:#0000FF;stroke-width:2px;stroke-linecap:butt;stroke-linejoin:miter;stroke-opacity:1\"/>\n",
       "<path class=\"bond-3\" d=\"M 221.394,141.572 253.546,149.658\" style=\"fill:none;fill-rule:evenodd;stroke:#0000FF;stroke-width:2px;stroke-linecap:butt;stroke-linejoin:miter;stroke-opacity:1\"/>\n",
       "<path class=\"bond-3\" d=\"M 223.357,133.77 255.508,141.856\" style=\"fill:none;fill-rule:evenodd;stroke:#0000FF;stroke-width:2px;stroke-linecap:butt;stroke-linejoin:miter;stroke-opacity:1\"/>\n",
       "<text style=\"font-size:15px;font-style:normal;font-weight:normal;fill-opacity:1;stroke:none;font-family:sans-serif;text-anchor:start;fill:#0000FF\" x=\"152.906\" y=\"129.514\"><tspan>N</tspan></text>\n",
       "<text style=\"font-size:15px;font-style:normal;font-weight:normal;fill-opacity:1;stroke:none;font-family:sans-serif;text-anchor:start;fill:#0000FF\" x=\"204.116\" y=\"143.625\"><tspan>N</tspan><tspan style=\"baseline-shift:super;font-size:11.25px;\">+</tspan><tspan/></text>\n",
       "<text style=\"font-size:15px;font-style:normal;font-weight:normal;fill-opacity:1;stroke:none;font-family:sans-serif;text-anchor:start;fill:#0000FF\" x=\"254.527\" y=\"156.019\"><tspan>N</tspan><tspan style=\"baseline-shift:super;font-size:11.25px;\">-</tspan><tspan/></text>\n",
       "<text style=\"font-size:15px;font-style:normal;font-weight:normal;fill-opacity:1;stroke:none;font-family:sans-serif;text-anchor:start;fill:#000000\" x=\"16.8209\" y=\"174.547\"><tspan>H</tspan></text>\n",
       "<text style=\"font-size:15px;font-style:normal;font-weight:normal;fill-opacity:1;stroke:none;font-family:sans-serif;text-anchor:start;fill:#000000\" x=\"43.7392\" y=\"100.337\"><tspan>H</tspan></text>\n",
       "<text style=\"font-size:15px;font-style:normal;font-weight:normal;fill-opacity:1;stroke:none;font-family:sans-serif;text-anchor:start;fill:#000000\" x=\"36.6031\" y=\"146.599\"><tspan>H</tspan></text>\n",
       "<text style=\"font-size:15px;font-style:normal;font-weight:normal;fill-opacity:1;stroke:none;font-family:sans-serif;text-anchor:start;fill:#000000\" x=\"122.835\" y=\"168.184\"><tspan>H</tspan></text>\n",
       "<text style=\"font-size:15px;font-style:normal;font-weight:normal;fill-opacity:1;stroke:none;font-family:sans-serif;text-anchor:start;fill:#000000\" x=\"115.665\" y=\"214.663\"><tspan>H</tspan></text>\n",
       "</svg>"
      ],
      "text/plain": [
       "<IPython.core.display.SVG object>"
      ]
     },
     "metadata": {},
     "output_type": "display_data"
    }
   ],
   "source": [
    "display_molecule(mol0)"
   ]
  },
  {
   "cell_type": "code",
   "execution_count": 13,
   "id": "e5a52d9b",
   "metadata": {},
   "outputs": [
    {
     "ename": "NameError",
     "evalue": "name 'mol' is not defined",
     "output_type": "error",
     "traceback": [
      "\u001b[0;31m---------------------------------------------------------------------------\u001b[0m",
      "\u001b[0;31mNameError\u001b[0m                                 Traceback (most recent call last)",
      "\u001b[0;32m<ipython-input-13-faac715f36e1>\u001b[0m in \u001b[0;36m<module>\u001b[0;34m\u001b[0m\n\u001b[1;32m      1\u001b[0m \u001b[0;31m# Iterate over the atoms\u001b[0m\u001b[0;34m\u001b[0m\u001b[0;34m\u001b[0m\u001b[0;34m\u001b[0m\u001b[0m\n\u001b[0;32m----> 2\u001b[0;31m \u001b[0;32mfor\u001b[0m \u001b[0matom\u001b[0m \u001b[0;32min\u001b[0m \u001b[0mmol\u001b[0m\u001b[0;34m.\u001b[0m\u001b[0mGetAtoms\u001b[0m\u001b[0;34m(\u001b[0m\u001b[0;34m)\u001b[0m\u001b[0;34m:\u001b[0m\u001b[0;34m\u001b[0m\u001b[0;34m\u001b[0m\u001b[0m\n\u001b[0m\u001b[1;32m      3\u001b[0m     \u001b[0;31m# For each atom, set the property \"atomNote\" to a index+1 of the atom\u001b[0m\u001b[0;34m\u001b[0m\u001b[0;34m\u001b[0m\u001b[0;34m\u001b[0m\u001b[0m\n\u001b[1;32m      4\u001b[0m     \u001b[0matom\u001b[0m\u001b[0;34m.\u001b[0m\u001b[0mSetProp\u001b[0m\u001b[0;34m(\u001b[0m\u001b[0;34m\"atomNote\"\u001b[0m\u001b[0;34m,\u001b[0m \u001b[0mstr\u001b[0m\u001b[0;34m(\u001b[0m\u001b[0matom\u001b[0m\u001b[0;34m.\u001b[0m\u001b[0mGetIdx\u001b[0m\u001b[0;34m(\u001b[0m\u001b[0;34m)\u001b[0m\u001b[0;34m+\u001b[0m\u001b[0;36m1\u001b[0m\u001b[0;34m)\u001b[0m\u001b[0;34m)\u001b[0m\u001b[0;34m\u001b[0m\u001b[0;34m\u001b[0m\u001b[0m\n\u001b[1;32m      5\u001b[0m \u001b[0;34m\u001b[0m\u001b[0m\n",
      "\u001b[0;31mNameError\u001b[0m: name 'mol' is not defined"
     ]
    }
   ],
   "source": [
    "# Iterate over the atoms\n",
    "for atom in mol.GetAtoms():\n",
    "    # For each atom, set the property \"atomNote\" to a index+1 of the atom\n",
    "    atom.SetProp(\"atomNote\", str(atom.GetIdx()+1))\n",
    "\n",
    "mol"
   ]
  },
  {
   "cell_type": "code",
   "execution_count": null,
   "id": "f0665a42",
   "metadata": {},
   "outputs": [],
   "source": [
    "# Save first conformer as sdf using RDKit\n",
    "from rdkit import Chem\n",
    "w = Chem.SDWriter('mol0.sdf')\n",
    "w.write(mol0)\n",
    "w.close()\n"
   ]
  }
 ],
 "metadata": {
  "kernelspec": {
   "display_name": "cascade",
   "language": "python",
   "name": "python3"
  },
  "language_info": {
   "codemirror_mode": {
    "name": "ipython",
    "version": 3
   },
   "file_extension": ".py",
   "mimetype": "text/x-python",
   "name": "python",
   "nbconvert_exporter": "python",
   "pygments_lexer": "ipython3",
   "version": "3.6.15"
  }
 },
 "nbformat": 4,
 "nbformat_minor": 5
}
