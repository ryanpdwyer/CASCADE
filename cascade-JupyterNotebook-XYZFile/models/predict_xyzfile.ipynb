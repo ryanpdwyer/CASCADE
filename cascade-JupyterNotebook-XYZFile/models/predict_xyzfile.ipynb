{
 "cells": [
  {
   "cell_type": "code",
   "execution_count": 1,
   "id": "67dc42f5",
   "metadata": {},
   "outputs": [
    {
     "name": "stderr",
     "output_type": "stream",
     "text": [
      "Using TensorFlow backend.\n",
      "/Users/dwyer/opt/miniconda3/envs/cascade/lib/python3.6/site-packages/tensorflow/python/framework/dtypes.py:523: FutureWarning: Passing (type, 1) or '1type' as a synonym of type is deprecated; in a future version of numpy, it will be understood as (type, (1,)) / '(1,)type'.\n",
      "  _np_qint8 = np.dtype([(\"qint8\", np.int8, 1)])\n",
      "/Users/dwyer/opt/miniconda3/envs/cascade/lib/python3.6/site-packages/tensorflow/python/framework/dtypes.py:524: FutureWarning: Passing (type, 1) or '1type' as a synonym of type is deprecated; in a future version of numpy, it will be understood as (type, (1,)) / '(1,)type'.\n",
      "  _np_quint8 = np.dtype([(\"quint8\", np.uint8, 1)])\n",
      "/Users/dwyer/opt/miniconda3/envs/cascade/lib/python3.6/site-packages/tensorflow/python/framework/dtypes.py:525: FutureWarning: Passing (type, 1) or '1type' as a synonym of type is deprecated; in a future version of numpy, it will be understood as (type, (1,)) / '(1,)type'.\n",
      "  _np_qint16 = np.dtype([(\"qint16\", np.int16, 1)])\n",
      "/Users/dwyer/opt/miniconda3/envs/cascade/lib/python3.6/site-packages/tensorflow/python/framework/dtypes.py:526: FutureWarning: Passing (type, 1) or '1type' as a synonym of type is deprecated; in a future version of numpy, it will be understood as (type, (1,)) / '(1,)type'.\n",
      "  _np_quint16 = np.dtype([(\"quint16\", np.uint16, 1)])\n",
      "/Users/dwyer/opt/miniconda3/envs/cascade/lib/python3.6/site-packages/tensorflow/python/framework/dtypes.py:527: FutureWarning: Passing (type, 1) or '1type' as a synonym of type is deprecated; in a future version of numpy, it will be understood as (type, (1,)) / '(1,)type'.\n",
      "  _np_qint32 = np.dtype([(\"qint32\", np.int32, 1)])\n",
      "/Users/dwyer/opt/miniconda3/envs/cascade/lib/python3.6/site-packages/tensorflow/python/framework/dtypes.py:532: FutureWarning: Passing (type, 1) or '1type' as a synonym of type is deprecated; in a future version of numpy, it will be understood as (type, (1,)) / '(1,)type'.\n",
      "  np_resource = np.dtype([(\"resource\", np.ubyte, 1)])\n"
     ]
    }
   ],
   "source": [
    "import keras"
   ]
  },
  {
   "cell_type": "markdown",
   "id": "2aa26534",
   "metadata": {},
   "source": [
    "I needed to install `cctk`, and switch some import statements in the `nfp` subfolder.\n",
    "\n",
    "Downgrade `hdf5` from 3.0 to less than 3.0"
   ]
  },
  {
   "cell_type": "code",
   "execution_count": 2,
   "id": "671e5228",
   "metadata": {},
   "outputs": [
    {
     "data": {
      "text/plain": [
       "'2.2.5'"
      ]
     },
     "execution_count": 2,
     "metadata": {},
     "output_type": "execute_result"
    }
   ],
   "source": [
    "keras.__version__"
   ]
  },
  {
   "cell_type": "code",
   "execution_count": 3,
   "id": "ba524f8a",
   "metadata": {},
   "outputs": [],
   "source": [
    "import tensorflow\n",
    "import tensorflow.keras"
   ]
  },
  {
   "cell_type": "code",
   "execution_count": 4,
   "id": "edb66e25",
   "metadata": {},
   "outputs": [
    {
     "data": {
      "text/plain": [
       "'2.1.6-tf'"
      ]
     },
     "execution_count": 4,
     "metadata": {},
     "output_type": "execute_result"
    }
   ],
   "source": [
    "tensorflow.keras.__version__"
   ]
  },
  {
   "cell_type": "code",
   "execution_count": 5,
   "id": "1f1b8a37",
   "metadata": {},
   "outputs": [
    {
     "name": "stderr",
     "output_type": "stream",
     "text": [
      "/Users/dwyer/opt/miniconda3/envs/cascade/lib/python3.6/site-packages/sklearn/utils/deprecation.py:144: FutureWarning: The sklearn.preprocessing.data module is  deprecated in version 0.22 and will be removed in version 0.24. The corresponding classes / functions should instead be imported from sklearn.preprocessing. Anything that cannot be imported from sklearn.preprocessing is now part of the private API.\n",
      "  warnings.warn(message, FutureWarning)\n"
     ]
    }
   ],
   "source": [
    "import pandas as pd\n",
    "import numpy as np\n",
    "from rdkit import Chem\n",
    "from nfp.preprocessing import MolAPreprocessor, GraphSequence\n",
    "\n",
    "import keras\n",
    "import keras.backend as K\n",
    "\n",
    "from keras.callbacks import ModelCheckpoint, CSVLogger, LearningRateScheduler\n",
    "\n",
    "from keras.layers import (Input, Embedding, Dense, BatchNormalization,\n",
    "                                 Concatenate, Multiply, Add)\n",
    "\n",
    "from keras.models import Model, load_model\n",
    "\n",
    "from nfp.layers import (MessageLayer, GRUStep, Squeeze, EdgeNetwork,\n",
    "                               ReduceBondToPro, ReduceBondToAtom, GatherAtomToBond, ReduceAtomToPro)\n",
    "from nfp.models import GraphModel\n",
    "from cascade.apply import predict_NMR_C_xyz,predict_NMR_H_xyz"
   ]
  },
  {
   "cell_type": "code",
   "execution_count": null,
   "id": "5f4d3684",
   "metadata": {},
   "outputs": [],
   "source": []
  },
  {
   "cell_type": "code",
   "execution_count": 6,
   "id": "adb56cdc",
   "metadata": {},
   "outputs": [],
   "source": [
    "import os"
   ]
  },
  {
   "cell_type": "code",
   "execution_count": null,
   "id": "6cdf990a",
   "metadata": {},
   "outputs": [],
   "source": []
  },
  {
   "cell_type": "code",
   "execution_count": 7,
   "id": "c6a70bab",
   "metadata": {},
   "outputs": [
    {
     "name": "stderr",
     "output_type": "stream",
     "text": [
      "/Users/dwyer/opt/miniconda3/envs/cascade/lib/python3.6/site-packages/tensorflow/python/ops/gradients_impl.py:112: UserWarning: Converting sparse IndexedSlices to a dense Tensor of unknown shape. This may consume a large amount of memory.\n",
      "  \"Converting sparse IndexedSlices to a dense Tensor of unknown shape. \"\n"
     ]
    }
   ],
   "source": [
    "modelpath_C = os.path.join('cascade', 'trained_model', 'best_model.hdf5')\n",
    "modelpath_H = os.path.join('cascade', 'trained_model', 'best_model_H_DFTNN.hdf5')\n",
    "\n",
    "batch_size = 32\n",
    "atom_means = pd.Series(np.array([0,0,97.74193,0,0,0,0,0,0,0]).astype(np.float64), name='shift')\n",
    "NMR_model_C = load_model(modelpath_C, custom_objects={'GraphModel': GraphModel,\n",
    "                                             'ReduceAtomToPro': ReduceAtomToPro,\n",
    "                                             'Squeeze': Squeeze,\n",
    "                                             'GatherAtomToBond': GatherAtomToBond,\n",
    "                                             'ReduceBondToAtom': ReduceBondToAtom})\n",
    "NMR_model_H = load_model(modelpath_H, custom_objects={'GraphModel': GraphModel,\n",
    "                                             'ReduceAtomToPro': ReduceAtomToPro,\n",
    "                                             'Squeeze': Squeeze,\n",
    "                                             'GatherAtomToBond': GatherAtomToBond,\n",
    "                                             'ReduceBondToAtom': ReduceBondToAtom})\n",
    "# NMR_model_C.summary()\n",
    "# NMR_model_H.summary()"
   ]
  },
  {
   "cell_type": "code",
   "execution_count": 8,
   "id": "d14c948b",
   "metadata": {},
   "outputs": [
    {
     "name": "stdout",
     "output_type": "stream",
     "text": [
      "\u001b[1m\u001b[36mPredictor\u001b[m\u001b[m/             \u001b[1m\u001b[36mnfp\u001b[m\u001b[m/                   \u001b[31mtest.py\u001b[m\u001b[m*\r\n",
      "\u001b[1m\u001b[36mcascade\u001b[m\u001b[m/               predict_xyzfile.ipynb  \u001b[31muwsgi_params\u001b[m\u001b[m*\r\n",
      "\u001b[31mdb.sqlite3\u001b[m\u001b[m*            \u001b[1m\u001b[36mstatic\u001b[m\u001b[m/                \u001b[1m\u001b[36mxyzfiles\u001b[m\u001b[m/\r\n",
      "\u001b[1m\u001b[36mmedia\u001b[m\u001b[m/                 test.csv\r\n"
     ]
    }
   ],
   "source": [
    "ls"
   ]
  },
  {
   "cell_type": "code",
   "execution_count": 9,
   "id": "d18e236a",
   "metadata": {},
   "outputs": [
    {
     "data": {
      "text/plain": [
       "'cascade/trained_model/best_model.hdf5'"
      ]
     },
     "execution_count": 9,
     "metadata": {},
     "output_type": "execute_result"
    }
   ],
   "source": [
    "modelpath_C"
   ]
  },
  {
   "cell_type": "code",
   "execution_count": 10,
   "id": "0caebbf0",
   "metadata": {},
   "outputs": [
    {
     "data": {
      "text/plain": [
       "['xyzfiles/mol_3.xyz',\n",
       " 'xyzfiles/mol_2.xyz',\n",
       " 'xyzfiles/mol_10.xyz',\n",
       " 'xyzfiles/mol_1.xyz',\n",
       " 'xyzfiles/mol_5.xyz',\n",
       " 'xyzfiles/mol_4.xyz',\n",
       " 'xyzfiles/mol_6.xyz',\n",
       " 'xyzfiles/mol_7.xyz',\n",
       " 'xyzfiles/mol_9.xyz',\n",
       " 'xyzfiles/mol_8.xyz']"
      ]
     },
     "execution_count": 10,
     "metadata": {},
     "output_type": "execute_result"
    }
   ],
   "source": [
    "#Loading DATA/\n",
    "import glob\n",
    "files = glob.glob('xyzfiles/*.xyz')\n",
    "files"
   ]
  },
  {
   "cell_type": "code",
   "execution_count": 11,
   "id": "0b0dad88",
   "metadata": {},
   "outputs": [
    {
     "name": "stderr",
     "output_type": "stream",
     "text": [
      "/Users/dwyer/opt/miniconda3/envs/cascade/lib/python3.6/site-packages/openbabel/__init__.py:14: UserWarning: \"import openbabel\" is deprecated, instead use \"from openbabel import openbabel\"\n",
      "  warnings.warn('\"import openbabel\" is deprecated, instead use \"from openbabel import openbabel\"')\n",
      "1it [00:00, 256.16it/s]\n"
     ]
    }
   ],
   "source": [
    "# C predicting NMR\n",
    "pred_data_C = pd.DataFrame()\n",
    "for i, file in enumerate(files[1:2]):\n",
    "    try:\n",
    "        mols, spreadShift = predict_NMR_C_xyz(file, NMR_model_C)\n",
    "        pred_data_C = pd.concat([pred_data_C,spreadShift])\n",
    "    except:\n",
    "        pass"
   ]
  },
  {
   "cell_type": "code",
   "execution_count": 12,
   "id": "26c94076",
   "metadata": {},
   "outputs": [
    {
     "data": {
      "text/html": [
       "<div>\n",
       "<style scoped>\n",
       "    .dataframe tbody tr th:only-of-type {\n",
       "        vertical-align: middle;\n",
       "    }\n",
       "\n",
       "    .dataframe tbody tr th {\n",
       "        vertical-align: top;\n",
       "    }\n",
       "\n",
       "    .dataframe thead th {\n",
       "        text-align: right;\n",
       "    }\n",
       "</style>\n",
       "<table border=\"1\" class=\"dataframe\">\n",
       "  <thead>\n",
       "    <tr style=\"text-align: right;\">\n",
       "      <th></th>\n",
       "      <th>atom_index</th>\n",
       "      <th>mol_id</th>\n",
       "      <th>predicted</th>\n",
       "    </tr>\n",
       "  </thead>\n",
       "  <tbody>\n",
       "    <tr>\n",
       "      <th>0</th>\n",
       "      <td>1</td>\n",
       "      <td>xyzfiles/mol_2.xyz</td>\n",
       "      <td>12.23</td>\n",
       "    </tr>\n",
       "    <tr>\n",
       "      <th>1</th>\n",
       "      <td>2</td>\n",
       "      <td>xyzfiles/mol_2.xyz</td>\n",
       "      <td>153.96</td>\n",
       "    </tr>\n",
       "    <tr>\n",
       "      <th>2</th>\n",
       "      <td>4</td>\n",
       "      <td>xyzfiles/mol_2.xyz</td>\n",
       "      <td>144.70</td>\n",
       "    </tr>\n",
       "    <tr>\n",
       "      <th>3</th>\n",
       "      <td>5</td>\n",
       "      <td>xyzfiles/mol_2.xyz</td>\n",
       "      <td>113.13</td>\n",
       "    </tr>\n",
       "    <tr>\n",
       "      <th>4</th>\n",
       "      <td>6</td>\n",
       "      <td>xyzfiles/mol_2.xyz</td>\n",
       "      <td>122.84</td>\n",
       "    </tr>\n",
       "    <tr>\n",
       "      <th>5</th>\n",
       "      <td>7</td>\n",
       "      <td>xyzfiles/mol_2.xyz</td>\n",
       "      <td>162.47</td>\n",
       "    </tr>\n",
       "    <tr>\n",
       "      <th>6</th>\n",
       "      <td>10</td>\n",
       "      <td>xyzfiles/mol_2.xyz</td>\n",
       "      <td>137.83</td>\n",
       "    </tr>\n",
       "    <tr>\n",
       "      <th>7</th>\n",
       "      <td>11</td>\n",
       "      <td>xyzfiles/mol_2.xyz</td>\n",
       "      <td>123.56</td>\n",
       "    </tr>\n",
       "    <tr>\n",
       "      <th>8</th>\n",
       "      <td>12</td>\n",
       "      <td>xyzfiles/mol_2.xyz</td>\n",
       "      <td>130.04</td>\n",
       "    </tr>\n",
       "    <tr>\n",
       "      <th>9</th>\n",
       "      <td>13</td>\n",
       "      <td>xyzfiles/mol_2.xyz</td>\n",
       "      <td>126.87</td>\n",
       "    </tr>\n",
       "    <tr>\n",
       "      <th>10</th>\n",
       "      <td>14</td>\n",
       "      <td>xyzfiles/mol_2.xyz</td>\n",
       "      <td>126.55</td>\n",
       "    </tr>\n",
       "    <tr>\n",
       "      <th>11</th>\n",
       "      <td>15</td>\n",
       "      <td>xyzfiles/mol_2.xyz</td>\n",
       "      <td>125.17</td>\n",
       "    </tr>\n",
       "  </tbody>\n",
       "</table>\n",
       "</div>"
      ],
      "text/plain": [
       "    atom_index              mol_id  predicted\n",
       "0            1  xyzfiles/mol_2.xyz      12.23\n",
       "1            2  xyzfiles/mol_2.xyz     153.96\n",
       "2            4  xyzfiles/mol_2.xyz     144.70\n",
       "3            5  xyzfiles/mol_2.xyz     113.13\n",
       "4            6  xyzfiles/mol_2.xyz     122.84\n",
       "5            7  xyzfiles/mol_2.xyz     162.47\n",
       "6           10  xyzfiles/mol_2.xyz     137.83\n",
       "7           11  xyzfiles/mol_2.xyz     123.56\n",
       "8           12  xyzfiles/mol_2.xyz     130.04\n",
       "9           13  xyzfiles/mol_2.xyz     126.87\n",
       "10          14  xyzfiles/mol_2.xyz     126.55\n",
       "11          15  xyzfiles/mol_2.xyz     125.17"
      ]
     },
     "execution_count": 12,
     "metadata": {},
     "output_type": "execute_result"
    }
   ],
   "source": [
    "pred_data_C"
   ]
  },
  {
   "cell_type": "code",
   "execution_count": 13,
   "id": "5750490f",
   "metadata": {},
   "outputs": [
    {
     "name": "stderr",
     "output_type": "stream",
     "text": [
      "/Users/dwyer/opt/miniconda3/envs/cascade/lib/python3.6/site-packages/openbabel/__init__.py:14: UserWarning: \"import openbabel\" is deprecated, instead use \"from openbabel import openbabel\"\n",
      "  warnings.warn('\"import openbabel\" is deprecated, instead use \"from openbabel import openbabel\"')\n",
      "1it [00:00, 492.40it/s]\n"
     ]
    }
   ],
   "source": [
    "# H predicitions\n",
    "pred_data_H = pd.DataFrame()\n",
    "for i, file in enumerate(files[1:2]):\n",
    "    try:\n",
    "        mols, spreadShift = predict_NMR_H_xyz(file, NMR_model_H)\n",
    "        pred_data_H = pd.concat([pred_data_H, spreadShift])\n",
    "    except:\n",
    "        pass"
   ]
  },
  {
   "cell_type": "code",
   "execution_count": 14,
   "id": "bbdaf364",
   "metadata": {},
   "outputs": [
    {
     "data": {
      "text/html": [
       "<div>\n",
       "<style scoped>\n",
       "    .dataframe tbody tr th:only-of-type {\n",
       "        vertical-align: middle;\n",
       "    }\n",
       "\n",
       "    .dataframe tbody tr th {\n",
       "        vertical-align: top;\n",
       "    }\n",
       "\n",
       "    .dataframe thead th {\n",
       "        text-align: right;\n",
       "    }\n",
       "</style>\n",
       "<table border=\"1\" class=\"dataframe\">\n",
       "  <thead>\n",
       "    <tr style=\"text-align: right;\">\n",
       "      <th></th>\n",
       "      <th>atom_index</th>\n",
       "      <th>mol_id</th>\n",
       "      <th>predicted</th>\n",
       "    </tr>\n",
       "  </thead>\n",
       "  <tbody>\n",
       "    <tr>\n",
       "      <th>0</th>\n",
       "      <td>1</td>\n",
       "      <td>xyzfiles/mol_2.xyz</td>\n",
       "      <td>12.23</td>\n",
       "    </tr>\n",
       "    <tr>\n",
       "      <th>1</th>\n",
       "      <td>2</td>\n",
       "      <td>xyzfiles/mol_2.xyz</td>\n",
       "      <td>153.96</td>\n",
       "    </tr>\n",
       "    <tr>\n",
       "      <th>2</th>\n",
       "      <td>4</td>\n",
       "      <td>xyzfiles/mol_2.xyz</td>\n",
       "      <td>144.70</td>\n",
       "    </tr>\n",
       "    <tr>\n",
       "      <th>3</th>\n",
       "      <td>5</td>\n",
       "      <td>xyzfiles/mol_2.xyz</td>\n",
       "      <td>113.13</td>\n",
       "    </tr>\n",
       "    <tr>\n",
       "      <th>4</th>\n",
       "      <td>6</td>\n",
       "      <td>xyzfiles/mol_2.xyz</td>\n",
       "      <td>122.84</td>\n",
       "    </tr>\n",
       "    <tr>\n",
       "      <th>5</th>\n",
       "      <td>7</td>\n",
       "      <td>xyzfiles/mol_2.xyz</td>\n",
       "      <td>162.47</td>\n",
       "    </tr>\n",
       "    <tr>\n",
       "      <th>6</th>\n",
       "      <td>10</td>\n",
       "      <td>xyzfiles/mol_2.xyz</td>\n",
       "      <td>137.83</td>\n",
       "    </tr>\n",
       "    <tr>\n",
       "      <th>7</th>\n",
       "      <td>11</td>\n",
       "      <td>xyzfiles/mol_2.xyz</td>\n",
       "      <td>123.56</td>\n",
       "    </tr>\n",
       "    <tr>\n",
       "      <th>8</th>\n",
       "      <td>12</td>\n",
       "      <td>xyzfiles/mol_2.xyz</td>\n",
       "      <td>130.04</td>\n",
       "    </tr>\n",
       "    <tr>\n",
       "      <th>9</th>\n",
       "      <td>13</td>\n",
       "      <td>xyzfiles/mol_2.xyz</td>\n",
       "      <td>126.87</td>\n",
       "    </tr>\n",
       "    <tr>\n",
       "      <th>10</th>\n",
       "      <td>14</td>\n",
       "      <td>xyzfiles/mol_2.xyz</td>\n",
       "      <td>126.55</td>\n",
       "    </tr>\n",
       "    <tr>\n",
       "      <th>11</th>\n",
       "      <td>15</td>\n",
       "      <td>xyzfiles/mol_2.xyz</td>\n",
       "      <td>125.17</td>\n",
       "    </tr>\n",
       "  </tbody>\n",
       "</table>\n",
       "</div>"
      ],
      "text/plain": [
       "    atom_index              mol_id  predicted\n",
       "0            1  xyzfiles/mol_2.xyz      12.23\n",
       "1            2  xyzfiles/mol_2.xyz     153.96\n",
       "2            4  xyzfiles/mol_2.xyz     144.70\n",
       "3            5  xyzfiles/mol_2.xyz     113.13\n",
       "4            6  xyzfiles/mol_2.xyz     122.84\n",
       "5            7  xyzfiles/mol_2.xyz     162.47\n",
       "6           10  xyzfiles/mol_2.xyz     137.83\n",
       "7           11  xyzfiles/mol_2.xyz     123.56\n",
       "8           12  xyzfiles/mol_2.xyz     130.04\n",
       "9           13  xyzfiles/mol_2.xyz     126.87\n",
       "10          14  xyzfiles/mol_2.xyz     126.55\n",
       "11          15  xyzfiles/mol_2.xyz     125.17"
      ]
     },
     "execution_count": 14,
     "metadata": {},
     "output_type": "execute_result"
    }
   ],
   "source": [
    "pred_data_C"
   ]
  },
  {
   "cell_type": "code",
   "execution_count": 15,
   "id": "bddfaa82",
   "metadata": {},
   "outputs": [
    {
     "data": {
      "text/html": [
       "<div>\n",
       "<style scoped>\n",
       "    .dataframe tbody tr th:only-of-type {\n",
       "        vertical-align: middle;\n",
       "    }\n",
       "\n",
       "    .dataframe tbody tr th {\n",
       "        vertical-align: top;\n",
       "    }\n",
       "\n",
       "    .dataframe thead th {\n",
       "        text-align: right;\n",
       "    }\n",
       "</style>\n",
       "<table border=\"1\" class=\"dataframe\">\n",
       "  <thead>\n",
       "    <tr style=\"text-align: right;\">\n",
       "      <th></th>\n",
       "      <th>atom_index</th>\n",
       "      <th>mol_id</th>\n",
       "      <th>predicted</th>\n",
       "    </tr>\n",
       "  </thead>\n",
       "  <tbody>\n",
       "    <tr>\n",
       "      <th>0</th>\n",
       "      <td>16</td>\n",
       "      <td>xyzfiles/mol_2.xyz</td>\n",
       "      <td>2.47</td>\n",
       "    </tr>\n",
       "    <tr>\n",
       "      <th>1</th>\n",
       "      <td>17</td>\n",
       "      <td>xyzfiles/mol_2.xyz</td>\n",
       "      <td>2.46</td>\n",
       "    </tr>\n",
       "    <tr>\n",
       "      <th>2</th>\n",
       "      <td>18</td>\n",
       "      <td>xyzfiles/mol_2.xyz</td>\n",
       "      <td>2.63</td>\n",
       "    </tr>\n",
       "    <tr>\n",
       "      <th>3</th>\n",
       "      <td>19</td>\n",
       "      <td>xyzfiles/mol_2.xyz</td>\n",
       "      <td>7.38</td>\n",
       "    </tr>\n",
       "    <tr>\n",
       "      <th>4</th>\n",
       "      <td>20</td>\n",
       "      <td>xyzfiles/mol_2.xyz</td>\n",
       "      <td>6.87</td>\n",
       "    </tr>\n",
       "    <tr>\n",
       "      <th>5</th>\n",
       "      <td>21</td>\n",
       "      <td>xyzfiles/mol_2.xyz</td>\n",
       "      <td>6.50</td>\n",
       "    </tr>\n",
       "    <tr>\n",
       "      <th>6</th>\n",
       "      <td>22</td>\n",
       "      <td>xyzfiles/mol_2.xyz</td>\n",
       "      <td>6.99</td>\n",
       "    </tr>\n",
       "    <tr>\n",
       "      <th>7</th>\n",
       "      <td>23</td>\n",
       "      <td>xyzfiles/mol_2.xyz</td>\n",
       "      <td>7.31</td>\n",
       "    </tr>\n",
       "    <tr>\n",
       "      <th>8</th>\n",
       "      <td>24</td>\n",
       "      <td>xyzfiles/mol_2.xyz</td>\n",
       "      <td>7.04</td>\n",
       "    </tr>\n",
       "    <tr>\n",
       "      <th>9</th>\n",
       "      <td>25</td>\n",
       "      <td>xyzfiles/mol_2.xyz</td>\n",
       "      <td>7.32</td>\n",
       "    </tr>\n",
       "    <tr>\n",
       "      <th>10</th>\n",
       "      <td>26</td>\n",
       "      <td>xyzfiles/mol_2.xyz</td>\n",
       "      <td>9.36</td>\n",
       "    </tr>\n",
       "  </tbody>\n",
       "</table>\n",
       "</div>"
      ],
      "text/plain": [
       "    atom_index              mol_id  predicted\n",
       "0           16  xyzfiles/mol_2.xyz       2.47\n",
       "1           17  xyzfiles/mol_2.xyz       2.46\n",
       "2           18  xyzfiles/mol_2.xyz       2.63\n",
       "3           19  xyzfiles/mol_2.xyz       7.38\n",
       "4           20  xyzfiles/mol_2.xyz       6.87\n",
       "5           21  xyzfiles/mol_2.xyz       6.50\n",
       "6           22  xyzfiles/mol_2.xyz       6.99\n",
       "7           23  xyzfiles/mol_2.xyz       7.31\n",
       "8           24  xyzfiles/mol_2.xyz       7.04\n",
       "9           25  xyzfiles/mol_2.xyz       7.32\n",
       "10          26  xyzfiles/mol_2.xyz       9.36"
      ]
     },
     "execution_count": 15,
     "metadata": {},
     "output_type": "execute_result"
    }
   ],
   "source": [
    "pred_data_H"
   ]
  },
  {
   "cell_type": "code",
   "execution_count": null,
   "id": "8b4a037f",
   "metadata": {},
   "outputs": [],
   "source": []
  }
 ],
 "metadata": {
  "kernelspec": {
   "display_name": "Python (cascade, 3.6, conda)",
   "language": "python",
   "name": "python-cascade"
  },
  "language_info": {
   "codemirror_mode": {
    "name": "ipython",
    "version": 3
   },
   "file_extension": ".py",
   "mimetype": "text/x-python",
   "name": "python",
   "nbconvert_exporter": "python",
   "pygments_lexer": "ipython3",
   "version": "3.6.15"
  }
 },
 "nbformat": 4,
 "nbformat_minor": 5
}
