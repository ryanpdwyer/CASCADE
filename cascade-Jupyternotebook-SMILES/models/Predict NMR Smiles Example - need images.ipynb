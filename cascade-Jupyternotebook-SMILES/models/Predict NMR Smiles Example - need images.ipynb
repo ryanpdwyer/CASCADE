{
 "cells": [
  {
   "cell_type": "code",
   "execution_count": 9,
   "id": "9aaa42e8",
   "metadata": {},
   "outputs": [],
   "source": [
    "import pandas as pd\n",
    "import numpy as np\n",
    "from rdkit import Chem\n",
    "from nfp.preprocessing import MolAPreprocessor, GraphSequence\n",
    "\n",
    "import keras\n",
    "import keras.backend as K\n",
    "\n",
    "\n",
    "from keras.callbacks import ModelCheckpoint, CSVLogger, LearningRateScheduler\n",
    "\n",
    "from keras.layers import (Input, Embedding, Dense, BatchNormalization,\n",
    "                                 Concatenate, Multiply, Add)\n",
    "\n",
    "from keras.models import Model, load_model\n",
    "\n",
    "from nfp.layers import (MessageLayer, GRUStep, Squeeze, EdgeNetwork,\n",
    "                               ReduceBondToPro, ReduceBondToAtom, GatherAtomToBond, ReduceAtomToPro)\n",
    "from nfp.models import GraphModel\n",
    "from cascade.apply import predict_NMR_C,predict_NMR_H"
   ]
  },
  {
   "cell_type": "code",
   "execution_count": 10,
   "id": "e375b043",
   "metadata": {},
   "outputs": [],
   "source": [
    "import os"
   ]
  },
  {
   "cell_type": "code",
   "execution_count": 11,
   "id": "35e6b182",
   "metadata": {},
   "outputs": [
    {
     "name": "stderr",
     "output_type": "stream",
     "text": [
      "/Users/dwyer/opt/miniconda3/envs/cascade/lib/python3.6/site-packages/tensorflow/python/ops/gradients_impl.py:112: UserWarning: Converting sparse IndexedSlices to a dense Tensor of unknown shape. This may consume a large amount of memory.\n",
      "  \"Converting sparse IndexedSlices to a dense Tensor of unknown shape. \"\n"
     ]
    }
   ],
   "source": [
    "modelpath_C = os.path.join('cascade', 'trained_model', 'best_model.hdf5')\n",
    "modelpath_H = os.path.join('cascade', 'trained_model', 'best_model_H_DFTNN.hdf5')\n",
    "\n",
    "batch_size = 32\n",
    "atom_means = pd.Series(np.array([0,0,97.74193,0,0,0,0,0,0,0]).astype(np.float64), name='shift')\n",
    "NMR_model_C = load_model(modelpath_C, custom_objects={'GraphModel': GraphModel,\n",
    "                                             'ReduceAtomToPro': ReduceAtomToPro,\n",
    "                                             'Squeeze': Squeeze,\n",
    "                                             'GatherAtomToBond': GatherAtomToBond,\n",
    "                                             'ReduceBondToAtom': ReduceBondToAtom})\n",
    "NMR_model_H = load_model(modelpath_H, custom_objects={'GraphModel': GraphModel,\n",
    "                                             'ReduceAtomToPro': ReduceAtomToPro,\n",
    "                                             'Squeeze': Squeeze,\n",
    "                                             'GatherAtomToBond': GatherAtomToBond,\n",
    "                                             'ReduceBondToAtom': ReduceBondToAtom})\n",
    "# NMR_model_C.summary()\n",
    "# NMR_model_H.summary()"
   ]
  },
  {
   "cell_type": "code",
   "execution_count": 12,
   "id": "179c8d8d",
   "metadata": {},
   "outputs": [
    {
     "name": "stderr",
     "output_type": "stream",
     "text": [
      "3it [00:00, 1782.53it/s]"
     ]
    },
    {
     "name": "stdout",
     "output_type": "stream",
     "text": [
      "   ------------------------------------------------------------------------------------------------------------------\n",
      "   |    FULL_MONTE search                                                                                           |\n",
      "   | o  EWIN: 10.0 kcal/mol                                                                                         |\n",
      "   | o  MCNV: 2 ROTATABLE BONDS                                                                                     |\n",
      "   | o  STEP: 200 (ESTIMATED CONFORMER SPACE: 8)                                                                    |\n",
      "   ------------------------------------------------------------------------------------------------------------------\n",
      "\n",
      "o  FILTERING CONFORMERS BY ENERGY CUTOFF: 10.0 kcal/mol\n",
      "   KEEPING 200 CONFORMERS\n",
      "o  FILTERING CONFORMERS BY RMS: 0.5\n",
      "   KEEPING 3 CONFORMERS\n"
     ]
    },
    {
     "name": "stderr",
     "output_type": "stream",
     "text": [
      "\n"
     ]
    }
   ],
   "source": [
    "out = predict_NMR_C(\"CCN=[N+]=[N-]\", NMR_model_C)"
   ]
  },
  {
   "cell_type": "code",
   "execution_count": 15,
   "id": "e9e43980",
   "metadata": {},
   "outputs": [
    {
     "data": {
      "text/html": [
       "<div>\n",
       "<style scoped>\n",
       "    .dataframe tbody tr th:only-of-type {\n",
       "        vertical-align: middle;\n",
       "    }\n",
       "\n",
       "    .dataframe tbody tr th {\n",
       "        vertical-align: top;\n",
       "    }\n",
       "\n",
       "    .dataframe thead th {\n",
       "        text-align: right;\n",
       "    }\n",
       "</style>\n",
       "<table border=\"1\" class=\"dataframe\">\n",
       "  <thead>\n",
       "    <tr style=\"text-align: right;\">\n",
       "      <th></th>\n",
       "      <th>mol_id</th>\n",
       "      <th>atom_index</th>\n",
       "      <th>Shift</th>\n",
       "    </tr>\n",
       "  </thead>\n",
       "  <tbody>\n",
       "    <tr>\n",
       "      <th>0</th>\n",
       "      <td>0</td>\n",
       "      <td>1</td>\n",
       "      <td>14.37</td>\n",
       "    </tr>\n",
       "    <tr>\n",
       "      <th>1</th>\n",
       "      <td>0</td>\n",
       "      <td>2</td>\n",
       "      <td>46.64</td>\n",
       "    </tr>\n",
       "  </tbody>\n",
       "</table>\n",
       "</div>"
      ],
      "text/plain": [
       "   mol_id  atom_index  Shift\n",
       "0       0           1  14.37\n",
       "1       0           2  46.64"
      ]
     },
     "execution_count": 15,
     "metadata": {},
     "output_type": "execute_result"
    }
   ],
   "source": [
    "out[1]"
   ]
  },
  {
   "cell_type": "code",
   "execution_count": 16,
   "id": "c713e5d3",
   "metadata": {},
   "outputs": [
    {
     "data": {
      "text/html": [
       "<div>\n",
       "<style scoped>\n",
       "    .dataframe tbody tr th:only-of-type {\n",
       "        vertical-align: middle;\n",
       "    }\n",
       "\n",
       "    .dataframe tbody tr th {\n",
       "        vertical-align: top;\n",
       "    }\n",
       "\n",
       "    .dataframe thead th {\n",
       "        text-align: right;\n",
       "    }\n",
       "</style>\n",
       "<table border=\"1\" class=\"dataframe\">\n",
       "  <thead>\n",
       "    <tr style=\"text-align: right;\">\n",
       "      <th></th>\n",
       "      <th>atom_index</th>\n",
       "      <th>cf_id</th>\n",
       "      <th>mol_id</th>\n",
       "      <th>relative_E</th>\n",
       "      <th>predicted</th>\n",
       "      <th>b_weight</th>\n",
       "    </tr>\n",
       "  </thead>\n",
       "  <tbody>\n",
       "    <tr>\n",
       "      <th>0</th>\n",
       "      <td>1</td>\n",
       "      <td>195</td>\n",
       "      <td>0</td>\n",
       "      <td>0.00</td>\n",
       "      <td>14.18</td>\n",
       "      <td>1.00</td>\n",
       "    </tr>\n",
       "    <tr>\n",
       "      <th>1</th>\n",
       "      <td>2</td>\n",
       "      <td>195</td>\n",
       "      <td>0</td>\n",
       "      <td>0.00</td>\n",
       "      <td>47.06</td>\n",
       "      <td>1.00</td>\n",
       "    </tr>\n",
       "    <tr>\n",
       "      <th>0</th>\n",
       "      <td>1</td>\n",
       "      <td>136</td>\n",
       "      <td>0</td>\n",
       "      <td>0.64</td>\n",
       "      <td>14.64</td>\n",
       "      <td>0.34</td>\n",
       "    </tr>\n",
       "    <tr>\n",
       "      <th>1</th>\n",
       "      <td>2</td>\n",
       "      <td>136</td>\n",
       "      <td>0</td>\n",
       "      <td>0.64</td>\n",
       "      <td>46.02</td>\n",
       "      <td>0.34</td>\n",
       "    </tr>\n",
       "    <tr>\n",
       "      <th>0</th>\n",
       "      <td>1</td>\n",
       "      <td>5</td>\n",
       "      <td>0</td>\n",
       "      <td>0.64</td>\n",
       "      <td>14.64</td>\n",
       "      <td>0.34</td>\n",
       "    </tr>\n",
       "    <tr>\n",
       "      <th>1</th>\n",
       "      <td>2</td>\n",
       "      <td>5</td>\n",
       "      <td>0</td>\n",
       "      <td>0.64</td>\n",
       "      <td>46.02</td>\n",
       "      <td>0.34</td>\n",
       "    </tr>\n",
       "  </tbody>\n",
       "</table>\n",
       "</div>"
      ],
      "text/plain": [
       "   atom_index cf_id mol_id  relative_E  predicted  b_weight\n",
       "0           1   195      0        0.00      14.18      1.00\n",
       "1           2   195      0        0.00      47.06      1.00\n",
       "0           1   136      0        0.64      14.64      0.34\n",
       "1           2   136      0        0.64      46.02      0.34\n",
       "0           1     5      0        0.64      14.64      0.34\n",
       "1           2     5      0        0.64      46.02      0.34"
      ]
     },
     "execution_count": 16,
     "metadata": {},
     "output_type": "execute_result"
    }
   ],
   "source": [
    "out[2]"
   ]
  },
  {
   "cell_type": "code",
   "execution_count": 14,
   "id": "8f9ef638",
   "metadata": {},
   "outputs": [
    {
     "data": {
      "text/plain": [
       "<rdkit.Chem.rdchem.Mol at 0x7fb5e0c0e6c0>"
      ]
     },
     "execution_count": 14,
     "metadata": {},
     "output_type": "execute_result"
    }
   ],
   "source": [
    "from rdkit import Chem\n",
    "\n",
    "mol = Chem.MolFromSmiles('c1ccccc1')\n",
    "mol"
   ]
  },
  {
   "cell_type": "code",
   "execution_count": 17,
   "id": "ae477918",
   "metadata": {
    "scrolled": false
   },
   "outputs": [
    {
     "name": "stdout",
     "output_type": "stream",
     "text": [
      "Model: \"graphmodel_1\"\n",
      "__________________________________________________________________________________________________\n",
      "Layer (type)                    Output Shape         Param #     Connected to                     \n",
      "==================================================================================================\n",
      "atom (InputLayer)               (None, 1)            0                                            \n",
      "__________________________________________________________________________________________________\n",
      "squeeze_1 (Squeeze)             (None,)              0           atom_index[0][0]                 \n",
      "                                                                 atom[0][0]                       \n",
      "                                                                 n_pro[0][0]                      \n",
      "__________________________________________________________________________________________________\n",
      "atom_embedding (Embedding)      (None, 256)          2560        squeeze_1[1][0]                  \n",
      "__________________________________________________________________________________________________\n",
      "dense_1 (Dense)                 (None, 256)          65536       atom_embedding[0][0]             \n",
      "__________________________________________________________________________________________________\n",
      "connectivity (InputLayer)       (None, 2)            0                                            \n",
      "__________________________________________________________________________________________________\n",
      "gather_atom_to_bond_1 (GatherAt (None, 256)          0           dense_1[0][0]                    \n",
      "                                                                 connectivity[0][0]               \n",
      "__________________________________________________________________________________________________\n",
      "gather_atom_to_bond_2 (GatherAt (None, 256)          0           dense_1[0][0]                    \n",
      "                                                                 connectivity[0][0]               \n",
      "__________________________________________________________________________________________________\n",
      "distance_rbf (InputLayer)       (None, 256)          0                                            \n",
      "__________________________________________________________________________________________________\n",
      "concatenate_1 (Concatenate)     (None, 768)          0           gather_atom_to_bond_1[0][0]      \n",
      "                                                                 gather_atom_to_bond_2[0][0]      \n",
      "                                                                 distance_rbf[0][0]               \n",
      "__________________________________________________________________________________________________\n",
      "dense_2 (Dense)                 (None, 512)          393728      concatenate_1[0][0]              \n",
      "__________________________________________________________________________________________________\n",
      "dense_3 (Dense)                 (None, 256)          131328      dense_2[0][0]                    \n",
      "__________________________________________________________________________________________________\n",
      "dense_4 (Dense)                 (None, 256)          65792       dense_3[0][0]                    \n",
      "__________________________________________________________________________________________________\n",
      "dense_5 (Dense)                 (None, 256)          65792       dense_4[0][0]                    \n",
      "__________________________________________________________________________________________________\n",
      "add_1 (Add)                     (None, 256)          0           dense_5[0][0]                    \n",
      "                                                                 distance_rbf[0][0]               \n",
      "__________________________________________________________________________________________________\n",
      "multiply_1 (Multiply)           (None, 256)          0           gather_atom_to_bond_1[0][0]      \n",
      "                                                                 add_1[0][0]                      \n",
      "__________________________________________________________________________________________________\n",
      "reduce_bond_to_atom_1 (ReduceBo (None, 256)          0           multiply_1[0][0]                 \n",
      "                                                                 connectivity[0][0]               \n",
      "__________________________________________________________________________________________________\n",
      "dense_6 (Dense)                 (None, 256)          65792       reduce_bond_to_atom_1[0][0]      \n",
      "__________________________________________________________________________________________________\n",
      "dense_7 (Dense)                 (None, 256)          65792       dense_6[0][0]                    \n",
      "__________________________________________________________________________________________________\n",
      "add_2 (Add)                     (None, 256)          0           dense_1[0][0]                    \n",
      "                                                                 dense_7[0][0]                    \n",
      "__________________________________________________________________________________________________\n",
      "dense_8 (Dense)                 (None, 256)          65536       add_2[0][0]                      \n",
      "__________________________________________________________________________________________________\n",
      "gather_atom_to_bond_3 (GatherAt (None, 256)          0           dense_8[0][0]                    \n",
      "                                                                 connectivity[0][0]               \n",
      "__________________________________________________________________________________________________\n",
      "gather_atom_to_bond_4 (GatherAt (None, 256)          0           dense_8[0][0]                    \n",
      "                                                                 connectivity[0][0]               \n",
      "__________________________________________________________________________________________________\n",
      "concatenate_2 (Concatenate)     (None, 768)          0           gather_atom_to_bond_3[0][0]      \n",
      "                                                                 gather_atom_to_bond_4[0][0]      \n",
      "                                                                 add_1[0][0]                      \n",
      "__________________________________________________________________________________________________\n",
      "dense_9 (Dense)                 (None, 512)          393728      concatenate_2[0][0]              \n",
      "__________________________________________________________________________________________________\n",
      "dense_10 (Dense)                (None, 256)          131328      dense_9[0][0]                    \n",
      "__________________________________________________________________________________________________\n",
      "dense_11 (Dense)                (None, 256)          65792       dense_10[0][0]                   \n",
      "__________________________________________________________________________________________________\n",
      "dense_12 (Dense)                (None, 256)          65792       dense_11[0][0]                   \n",
      "__________________________________________________________________________________________________\n",
      "add_3 (Add)                     (None, 256)          0           dense_12[0][0]                   \n",
      "                                                                 add_1[0][0]                      \n",
      "__________________________________________________________________________________________________\n",
      "multiply_2 (Multiply)           (None, 256)          0           gather_atom_to_bond_3[0][0]      \n",
      "                                                                 add_3[0][0]                      \n",
      "__________________________________________________________________________________________________\n",
      "reduce_bond_to_atom_2 (ReduceBo (None, 256)          0           multiply_2[0][0]                 \n",
      "                                                                 connectivity[0][0]               \n",
      "__________________________________________________________________________________________________\n",
      "dense_13 (Dense)                (None, 256)          65792       reduce_bond_to_atom_2[0][0]      \n",
      "__________________________________________________________________________________________________\n",
      "dense_14 (Dense)                (None, 256)          65792       dense_13[0][0]                   \n",
      "__________________________________________________________________________________________________\n",
      "add_4 (Add)                     (None, 256)          0           dense_8[0][0]                    \n",
      "                                                                 dense_14[0][0]                   \n",
      "__________________________________________________________________________________________________\n",
      "dense_15 (Dense)                (None, 256)          65536       add_4[0][0]                      \n",
      "__________________________________________________________________________________________________\n",
      "gather_atom_to_bond_5 (GatherAt (None, 256)          0           dense_15[0][0]                   \n",
      "                                                                 connectivity[0][0]               \n",
      "__________________________________________________________________________________________________\n",
      "gather_atom_to_bond_6 (GatherAt (None, 256)          0           dense_15[0][0]                   \n",
      "                                                                 connectivity[0][0]               \n",
      "__________________________________________________________________________________________________\n",
      "concatenate_3 (Concatenate)     (None, 768)          0           gather_atom_to_bond_5[0][0]      \n",
      "                                                                 gather_atom_to_bond_6[0][0]      \n",
      "                                                                 add_3[0][0]                      \n",
      "__________________________________________________________________________________________________\n",
      "dense_16 (Dense)                (None, 512)          393728      concatenate_3[0][0]              \n",
      "__________________________________________________________________________________________________\n",
      "dense_17 (Dense)                (None, 256)          131328      dense_16[0][0]                   \n",
      "__________________________________________________________________________________________________\n",
      "dense_18 (Dense)                (None, 256)          65792       dense_17[0][0]                   \n",
      "__________________________________________________________________________________________________\n",
      "dense_19 (Dense)                (None, 256)          65792       dense_18[0][0]                   \n",
      "__________________________________________________________________________________________________\n",
      "add_5 (Add)                     (None, 256)          0           dense_19[0][0]                   \n",
      "                                                                 add_3[0][0]                      \n",
      "__________________________________________________________________________________________________\n",
      "multiply_3 (Multiply)           (None, 256)          0           gather_atom_to_bond_5[0][0]      \n",
      "                                                                 add_5[0][0]                      \n",
      "__________________________________________________________________________________________________\n",
      "reduce_bond_to_atom_3 (ReduceBo (None, 256)          0           multiply_3[0][0]                 \n",
      "                                                                 connectivity[0][0]               \n",
      "__________________________________________________________________________________________________\n",
      "dense_20 (Dense)                (None, 256)          65792       reduce_bond_to_atom_3[0][0]      \n",
      "__________________________________________________________________________________________________\n",
      "dense_21 (Dense)                (None, 256)          65792       dense_20[0][0]                   \n",
      "__________________________________________________________________________________________________\n",
      "atom_index (InputLayer)         (None, 1)            0                                            \n",
      "__________________________________________________________________________________________________\n",
      "n_pro (InputLayer)              (None, 1)            0                                            \n",
      "__________________________________________________________________________________________________\n",
      "add_6 (Add)                     (None, 256)          0           dense_15[0][0]                   \n",
      "                                                                 dense_21[0][0]                   \n",
      "__________________________________________________________________________________________________\n",
      "reduce_atom_to_pro_1 (ReduceAto (None, 256)          0           add_6[0][0]                      \n",
      "                                                                 squeeze_1[0][0]                  \n",
      "                                                                 squeeze_1[2][0]                  \n",
      "__________________________________________________________________________________________________\n",
      "dense_22 (Dense)                (None, 256)          65792       reduce_atom_to_pro_1[0][0]       \n",
      "__________________________________________________________________________________________________\n",
      "dense_23 (Dense)                (None, 256)          65792       dense_22[0][0]                   \n",
      "__________________________________________________________________________________________________\n",
      "dense_24 (Dense)                (None, 128)          32896       dense_23[0][0]                   \n",
      "__________________________________________________________________________________________________\n",
      "atomwise_shift (Embedding)      (None, 1)            10          squeeze_1[1][0]                  \n",
      "__________________________________________________________________________________________________\n",
      "dense_25 (Dense)                (None, 1)            129         dense_24[0][0]                   \n",
      "__________________________________________________________________________________________________\n",
      "reduce_atom_to_pro_2 (ReduceAto (None, 1)            0           atomwise_shift[0][0]             \n",
      "                                                                 squeeze_1[0][0]                  \n",
      "                                                                 squeeze_1[2][0]                  \n",
      "__________________________________________________________________________________________________\n",
      "add_7 (Add)                     (None, 1)            0           dense_25[0][0]                   \n",
      "                                                                 reduce_atom_to_pro_2[0][0]       \n",
      "==================================================================================================\n",
      "Total params: 2,728,459\n",
      "Trainable params: 2,728,459\n",
      "Non-trainable params: 0\n",
      "__________________________________________________________________________________________________\n"
     ]
    }
   ],
   "source": [
    "NMR_model_C.\n"
   ]
  },
  {
   "cell_type": "code",
   "execution_count": 18,
   "id": "659171a2",
   "metadata": {},
   "outputs": [
    {
     "name": "stdout",
     "output_type": "stream",
     "text": [
      "The tensorboard module is not an IPython extension.\n"
     ]
    }
   ],
   "source": [
    "%load_ext tensorboard\n"
   ]
  },
  {
   "cell_type": "code",
   "execution_count": 20,
   "id": "4031a39a",
   "metadata": {},
   "outputs": [],
   "source": [
    "import tensorboard\n"
   ]
  },
  {
   "cell_type": "code",
   "execution_count": null,
   "id": "fdac50ca",
   "metadata": {},
   "outputs": [],
   "source": [
    "tensorboard.__"
   ]
  }
 ],
 "metadata": {
  "kernelspec": {
   "display_name": "Python (cascade, 3.6, conda)",
   "language": "python",
   "name": "python-cascade"
  },
  "language_info": {
   "codemirror_mode": {
    "name": "ipython",
    "version": 3
   },
   "file_extension": ".py",
   "mimetype": "text/x-python",
   "name": "python",
   "nbconvert_exporter": "python",
   "pygments_lexer": "ipython3",
   "version": "3.6.15"
  }
 },
 "nbformat": 4,
 "nbformat_minor": 5
}
